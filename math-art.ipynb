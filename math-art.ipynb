{
 "cells": [
  {
   "cell_type": "markdown",
   "metadata": {},
   "source": []
  },
  {
   "cell_type": "markdown",
   "metadata": {},
   "source": [
    "June 29, 2022  \n",
    "\n",
    "Welcome to the wonderful world of widgets.  \n",
    "==========================================\n",
    "\n",
    "Today's widget is a Jupyter Notebook + Turtle module surprise.\n",
    "\n",
    "* Must restart kernal for new run.  \n",
    "* Anyone know how to solve the error for the last cell, \"2000 segments sailboat\"?  "
   ]
  },
  {
   "cell_type": "code",
   "execution_count": null,
   "metadata": {},
   "outputs": [],
   "source": [
    "# draw random size and position circles\n",
    "import turtle\n",
    "import random\n",
    "\n",
    "circleA = turtle.Turtle()\n",
    "circleA.fillcolor(\"aquamarine\")\n",
    "circleA.pencolor(\"black\")\n",
    "circleA.pensize(5)\n",
    "circleA.speed(0)\n",
    "\n",
    "circleB = turtle.Turtle()\n",
    "circleB.color(\"black\", \"burlywood1\")\n",
    "circleB.pensize(5)\n",
    "circleB.speed(0)\n",
    "\n",
    "circleC = turtle.Turtle()\n",
    "circleC.color(\"black\", \"hotpink1\")\n",
    "circleC.pensize(5)\n",
    "circleC.speed(0)\n",
    "\n",
    "circleD = turtle.Turtle()\n",
    "circleD.color(\"black\", \"oliveDrab1\")\n",
    "circleD.pensize(5)\n",
    "circleD.speed(0)\n",
    "\n",
    "for i in range(10): \n",
    "  for circle in [circleA, circleB, circleC, circleD]:\n",
    "    circle.penup()\n",
    "    circle.goto(random.randint(-200,200), random.randint(-200,200))\n",
    "    circle.pendown()\n",
    "    circle.begin_fill()\n",
    "    circle.circle(random.randint(20,50))\n",
    "    circle.end_fill()"
   ]
  },
  {
   "cell_type": "code",
   "execution_count": null,
   "metadata": {},
   "outputs": [],
   "source": [
    "# 500 segments bird in flight, equations designed by Hamid Naderi Yeganeh\n",
    "import turtle\n",
    "import math\n",
    "artist = turtle.Turtle()\n",
    "artist.speed(0)\n",
    "artist.pensize(0.01) \n",
    "artist.hideturtle()\n",
    "count = 500\n",
    "scale = 300\n",
    "for k in range(count) :\n",
    "  x1 = (3/2)*(math.sin((2 * math.pi * k / count)+(math.pi/3)))**7\n",
    "  y1 = (1/4)*(math.cos(6 * math.pi * k / count))**2\n",
    "  x2 = (1/5)*math.sin((6 * math.pi * k / count)+(math.pi/5))\n",
    "  y2 = (-2/3)*(math.sin((2 * math.pi * k / count)-(math.pi/3)))**2\n",
    "    \n",
    "  print(k)\n",
    "  artist.penup()\n",
    "  artist.goto(x1*scale, y1*scale)\n",
    "  artist.pendown()\n",
    "  artist.pencolor(\"MediumPurple1\")\n",
    "  artist.goto(x2*scale, y2*scale)"
   ]
  },
  {
   "cell_type": "code",
   "execution_count": null,
   "metadata": {},
   "outputs": [],
   "source": [
    "# 1000 segments fish, equations designed by Hamid Naderi Yeganeh\n",
    "\n",
    "import turtle\n",
    "import math\n",
    "artist = turtle.Turtle()\n",
    "artist.speed(0)\n",
    "artist.pensize(1)\n",
    "artist.hideturtle()\n",
    "count = 1000\n",
    "scale = 600\n",
    "for i in range(count) :\n",
    "  x1 = -2*math.cos(4*math.pi*i/count)\n",
    "  y1 = (1/2)*(math.cos(6*math.pi*i/count))**3\n",
    "  x2 = (-2/15)*math.sin(6*math.pi*i/count)\n",
    "  y2 = (4/5)*math.sin(2*math.pi*i/count)\n",
    "  print(i)\n",
    "  artist.penup()\n",
    "  artist.goto(x1*scale, y1*scale)\n",
    "  artist.pendown()\n",
    "  artist.pencolor(\"LightGreen\") \n",
    "  artist.goto(x2*scale, y2*scale)"
   ]
  },
  {
   "cell_type": "code",
   "execution_count": null,
   "metadata": {},
   "outputs": [],
   "source": [
    "# 6000 segments, equations designed by Hamid Naderi Yeganeh\n",
    "import turtle\n",
    "import math\n",
    "artist = turtle.Turtle()\n",
    "artist.speed(0)\n",
    "artist.pensize(0.1) \n",
    "artist.hideturtle()\n",
    "count = 6000\n",
    "scale = 600\n",
    "for i in range(count) :\n",
    "  x1 = math.sin(28*math.pi*i/count)\n",
    "  y1 = math.cos(14*math.pi*i/count)\n",
    "  x2 = math.sin(48*math.pi*i/count)\n",
    "  y2 = math.cos(24*math.pi*i/count)\n",
    "  print(i)\n",
    "  artist.penup()\n",
    "  artist.goto(x1*scale, y1*scale)\n",
    "  artist.pendown()\n",
    "  artist.pencolor(\"LightBlue\")\n",
    "  artist.goto(x2*scale, y2*scale)"
   ]
  },
  {
   "cell_type": "code",
   "execution_count": null,
   "metadata": {},
   "outputs": [],
   "source": [
    "# 9,000 circles, equations designed by Hamid Naderi Yeganeh\n",
    "\n",
    "import turtle\n",
    "import math\n",
    "artist = turtle.Turtle()\n",
    "artist.speed(0)\n",
    "artist.pensize(0.1) \n",
    "artist.hideturtle()\n",
    "count = 9000\n",
    "scale = 500\n",
    "for k in range(count) :\n",
    "  x = math.cos(14 * math.pi * k / count) * (1 - 3/4 * (math.cos(36*math.pi*k/count)**2))\n",
    "  y = math.sin(14 * math.pi * k / count) * (1 - 3/4 * (math.cos(36*math.pi*k/count)**2))\n",
    "  r = (1/200) + (1/10) * (math.sin(64*math.pi*k/count)**6) #exponent 6 on inside\n",
    "  print(k)\n",
    "  artist.penup()\n",
    "  artist.setx(x*scale)\n",
    "  artist.sety(y*scale)\n",
    "  artist.pendown()\n",
    "  artist.pencolor(\"YellowGreen\")\n",
    "  artist.circle(r*scale)"
   ]
  },
  {
   "cell_type": "code",
   "execution_count": null,
   "metadata": {},
   "outputs": [],
   "source": [
    "# 2000 segments sailboat; does not work: math range error\n",
    "import turtle\n",
    "import math\n",
    "artist = turtle.Turtle()\n",
    "artist.speed(0)\n",
    "artist.pensize(0.0001)\n",
    "artist.hideturtle()\n",
    "count = 2000\n",
    "scale = 600\n",
    "for i in range(count) :\n",
    "  x1 = (math.cos((6*math.pi*i/count) - i * math.cos(12*math.pi*i/count))) * math.exp(3*math.pi*i / 4)\n",
    "  y1 = (math.sin((4*math.pi*i/count) + (math.pi / 8)) + i*math.sin((2*math.pi*i / count) + (math.pi/3)))*math.exp(3*math.pi*i/4)\n",
    "  print(i)\n",
    "  artist.pendown()\n",
    "  artist.pencolor(\"MediumOrchid\")\n",
    "  artist.goto(x1*scale, y1*scale)"
   ]
  },
  {
   "cell_type": "markdown",
   "metadata": {},
   "source": [
    "<ins>References</ins>  \n",
    "https://www.ams.org/publicoutreach/math-imagery/yeganeh  \n",
    "https://blogs.scientificamerican.com/guest-blog/making-mathematical-art/  \n",
    "https://joannakl.github.io/core109_f17/slides/week11/drawing_with_turtle.html  \n",
    "![Turtle Colors](https://cs111.wellesley.edu/labs/lab02/colors)"
   ]
  }
 ],
 "metadata": {
  "kernelspec": {
   "display_name": "Python 3.7.3 64-bit",
   "language": "python",
   "name": "python3"
  },
  "language_info": {
   "codemirror_mode": {
    "name": "ipython",
    "version": 3
   },
   "file_extension": ".py",
   "mimetype": "text/x-python",
   "name": "python",
   "nbconvert_exporter": "python",
   "pygments_lexer": "ipython3",
   "version": "3.7.3"
  },
  "orig_nbformat": 4,
  "vscode": {
   "interpreter": {
    "hash": "e774977668b7c0ae8309835a5187aa7fbf7669e7d0bb59755bc63e573643edcd"
   }
  }
 },
 "nbformat": 4,
 "nbformat_minor": 2
}
